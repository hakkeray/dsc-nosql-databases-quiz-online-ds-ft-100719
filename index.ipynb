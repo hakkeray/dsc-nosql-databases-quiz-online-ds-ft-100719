{
 "cells": [
  {
   "cell_type": "markdown",
   "metadata": {},
   "source": [
    "# NoSQL Databases - Quiz\n",
    "\n",
    "\n",
    "## Introduction\n",
    "\n",
    "In this lesson, you'll answer some common open-ended interview questions about NoSQL databases.\n",
    "\n",
    "\n",
    "## Question 1\n",
    "\n",
    "What is the difference between a NoSQL and a SQL database?  Which is better?\n",
    "\n",
    "Write your answer below this line: \n",
    "_________________________________________________________________________________________________________________\n",
    "\n",
    "NoSQL is better for handling data that doesn't fit the 'regular' or consistent structure in say size or type that is necessary for SQL which is a relational database. For example if you have a column for messages but some entries are 5 messages, and some entries are only 1 message, it's hard to work with this in SQL.\n",
    "\n",
    "\n",
    "\n",
    "\n",
    "\n",
    "\n",
    "## Question 2\n",
    "\n",
    "Describe a situation where a NoSQL database might be a better choice than a relational database, and explain your reasoning.\n",
    "\n",
    "Write your answer below this line: \n",
    "_________________________________________________________________________________________________________________See above answer\n",
    "\n",
    "\n",
    "\n",
    "\n",
    "\n",
    "## Question 3\n",
    "\n",
    "How does MongoDB work? How is it different from a relational database?\n",
    "\n",
    "Write your answer below this line: \n",
    "_________________________________________________________________________________________________________________\n",
    "\n",
    "MongoDB uses document stores which are key-value pairs. Documents can be arbitrarily long and the documents don't have to use the same keys. This is different from a relational database where entries have to use the same keys (i.e. columns/column names).\n",
    "\n",
    "\n",
    "\n",
    "\n",
    "\n",
    "\n",
    "\n",
    "## Question 4\n",
    "\n",
    "What is fault tolerance, and what does it have to do with Resilient Distributed Datasets?\n",
    "\n",
    "Write your answer below this line: \n",
    "_________________________________________________________________________________________________________________\n",
    "Fault tolerance is the ability to withstand a disruption of service if a server goes down, i.e. minimizing loss of data. Similar to a R.A.I.D. array system that's used for computer hard drives, fault tolerance for databases uses redundant sets of data spread across multiple servers so that if one server goes down while we're running a query (or before) we don't miss out on data.\n",
    "\n",
    "\n",
    "\n",
    "\n",
    "\n",
    "## Question 5\n",
    "\n",
    "What is MapReduce? How is it related to Hadoop?\n",
    "\n",
    "Write your answer below this line: \n",
    "_________________________________________________________________________________________________________________\n",
    "\n",
    "MapReduce is a way of optimizing/speeding up a query/ making it more efficient by splitting the query up across multiple servers so that each server is running the same query over a smaller subset of data, (this is the mapping part) then aggregating all the results together (the reduce part). Hadoop is a platform that supports an RDD (resilient distributed dataset) such as MapReduce. Spark is built on top of Hadoop and allows users a cleaner, faster way of dealing with distributed datasets. \n",
    "\n",
    "\n",
    "## Summary\n",
    "\n",
    "\n",
    "In this lesson, we reviewed some common NoSQL interview questions. "
   ]
  }
 ],
 "metadata": {
  "kernelspec": {
   "display_name": "Python 3",
   "language": "python",
   "name": "python3"
  },
  "language_info": {
   "codemirror_mode": {
    "name": "ipython",
    "version": 3
   },
   "file_extension": ".py",
   "mimetype": "text/x-python",
   "name": "python",
   "nbconvert_exporter": "python",
   "pygments_lexer": "ipython3",
   "version": "3.6.9"
  },
  "toc": {
   "base_numbering": 1,
   "nav_menu": {},
   "number_sections": true,
   "sideBar": true,
   "skip_h1_title": false,
   "title_cell": "Table of Contents",
   "title_sidebar": "Contents",
   "toc_cell": false,
   "toc_position": {},
   "toc_section_display": true,
   "toc_window_display": false
  },
  "varInspector": {
   "cols": {
    "lenName": 16,
    "lenType": 16,
    "lenVar": 40
   },
   "kernels_config": {
    "python": {
     "delete_cmd_postfix": "",
     "delete_cmd_prefix": "del ",
     "library": "var_list.py",
     "varRefreshCmd": "print(var_dic_list())"
    },
    "r": {
     "delete_cmd_postfix": ") ",
     "delete_cmd_prefix": "rm(",
     "library": "var_list.r",
     "varRefreshCmd": "cat(var_dic_list()) "
    }
   },
   "types_to_exclude": [
    "module",
    "function",
    "builtin_function_or_method",
    "instance",
    "_Feature"
   ],
   "window_display": false
  }
 },
 "nbformat": 4,
 "nbformat_minor": 2
}
